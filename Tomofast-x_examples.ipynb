{
  "cells": [
    {
      "cell_type": "markdown",
      "metadata": {
        "id": "view-in-github",
        "colab_type": "text"
      },
      "source": [
        "<a href=\"https://colab.research.google.com/github/TOMOFAST/datasets/blob/main/Tomofast-x_examples.ipynb\" target=\"_parent\"><img src=\"https://colab.research.google.com/assets/colab-badge.svg\" alt=\"Open In Colab\"/></a>"
      ]
    },
    {
      "cell_type": "markdown",
      "metadata": {
        "id": "Zl_mH-3vfjV6"
      },
      "source": [
        "# Tomofast-x examples\n",
        "\n",
        "Tomofast-x code and papers:   \n",
        " https://github.com/TOMOFAST/Tomofast-x\n",
        "\n",
        " https://gmd.copernicus.org/articles/17/2325/2024/\n",
        "\n",
        " https://gmd.copernicus.org/articles/14/6681/2021/   \n",
        "\n"
      ]
    },
    {
      "cell_type": "markdown",
      "source": [
        "# Install the code and visualisation tools."
      ],
      "metadata": {
        "id": "esvtQP1lonOy"
      }
    },
    {
      "cell_type": "code",
      "execution_count": null,
      "metadata": {
        "id": "HWFIyEq0gXxk"
      },
      "outputs": [],
      "source": [
        "!git clone https://github.com/TOMOFAST/Tomofast-x.git"
      ]
    },
    {
      "cell_type": "code",
      "execution_count": null,
      "metadata": {
        "id": "FI_earapN-Ab"
      },
      "outputs": [],
      "source": [
        "!git clone https://github.com/TOMOFAST/Tomofast-tools.git"
      ]
    },
    {
      "cell_type": "code",
      "execution_count": null,
      "metadata": {
        "id": "lArldmnGghi1"
      },
      "outputs": [],
      "source": [
        "# Compile Tomofast-x/\n",
        "%cd Tomofast-x\n",
        "!make"
      ]
    },
    {
      "cell_type": "markdown",
      "source": [
        "# Synthetic 2D model (gravity data) with petrophysical (ADMM) constraints."
      ],
      "metadata": {
        "id": "US7HvhBEM43d"
      }
    },
    {
      "cell_type": "code",
      "execution_count": null,
      "metadata": {
        "id": "Oa4bqGqggmJd"
      },
      "outputs": [],
      "source": [
        "# Run example.\n",
        "!mpirun --allow-run-as-root -np 1 ./tomofastx -j ./parfiles/Parfile_mansf_slice.txt"
      ]
    },
    {
      "cell_type": "code",
      "execution_count": null,
      "metadata": {
        "id": "tDVx0dFg5EpB"
      },
      "outputs": [],
      "source": [
        "%cd ../Tomofast-tools\n",
        "import tomofast_vis\n"
      ]
    },
    {
      "cell_type": "code",
      "execution_count": null,
      "metadata": {
        "id": "KHRUQZehOu1N"
      },
      "outputs": [],
      "source": [
        "tomofast_vis.main()"
      ]
    },
    {
      "cell_type": "markdown",
      "source": [
        "# A larger 3D model (gravity data) example."
      ],
      "metadata": {
        "id": "xFQtJrOHwHOX"
      }
    },
    {
      "cell_type": "code",
      "source": [
        "# Clone Tomofast-x input files with a 3D model.\n",
        "%cd /content\n",
        "%ls\n",
        "!git clone https://github.com/TOMOFAST/datasets.git"
      ],
      "metadata": {
        "id": "91pDqNb61uTw"
      },
      "execution_count": null,
      "outputs": []
    },
    {
      "cell_type": "code",
      "source": [
        "# Unzip the input files for Tomofast-x.\n",
        "%cd datasets\n",
        "!unzip inputs_417720_cells.zip"
      ],
      "metadata": {
        "id": "ACL3uhl214wh"
      },
      "execution_count": null,
      "outputs": []
    },
    {
      "cell_type": "code",
      "source": [
        "# Copy tomofast-x executable.\n",
        "%cp ../Tomofast-x/tomofastx .\n",
        "%ls"
      ],
      "metadata": {
        "id": "ZLoejhdw2EPd"
      },
      "execution_count": null,
      "outputs": []
    },
    {
      "cell_type": "code",
      "source": [
        "# Run example.\n",
        "!time mpirun --allow-run-as-root -np 1 ./tomofastx -j ./Parfile.txt"
      ],
      "metadata": {
        "id": "VgSs6NpB2Hfl"
      },
      "execution_count": null,
      "outputs": []
    }
  ],
  "metadata": {
    "colab": {
      "name": "Tomofast-x_examples.ipynb",
      "provenance": [],
      "include_colab_link": true
    },
    "kernelspec": {
      "display_name": "Python 3",
      "name": "python3"
    },
    "language_info": {
      "name": "python"
    }
  },
  "nbformat": 4,
  "nbformat_minor": 0
}