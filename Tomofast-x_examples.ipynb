{
  "cells": [
    {
      "cell_type": "markdown",
      "metadata": {
        "id": "view-in-github",
        "colab_type": "text"
      },
      "source": [
        "<a href=\"https://colab.research.google.com/github/TOMOFAST/datasets/blob/main/Tomofast-x_examples.ipynb\" target=\"_parent\"><img src=\"https://colab.research.google.com/assets/colab-badge.svg\" alt=\"Open In Colab\"/></a>"
      ]
    },
    {
      "cell_type": "markdown",
      "metadata": {
        "id": "Zl_mH-3vfjV6"
      },
      "source": [
        "# Tomofast-x examples\n",
        "\n",
        "Tomofast-x code and papers:   \n",
        " https://github.com/TOMOFAST/Tomofast-x\n",
        "\n",
        " https://gmd.copernicus.org/articles/17/2325/2024/\n",
        "\n",
        " https://gmd.copernicus.org/articles/14/6681/2021/   \n",
        "\n"
      ]
    },
    {
      "cell_type": "markdown",
      "source": [
        "# Install the code and visualisation tools."
      ],
      "metadata": {
        "id": "esvtQP1lonOy"
      }
    },
    {
      "cell_type": "code",
      "execution_count": null,
      "metadata": {
        "id": "HWFIyEq0gXxk"
      },
      "outputs": [],
      "source": [
        "!git clone https://github.com/TOMOFAST/Tomofast-x.git"
      ]
    },
    {
      "cell_type": "code",
      "execution_count": null,
      "metadata": {
        "id": "FI_earapN-Ab"
      },
      "outputs": [],
      "source": [
        "!rm -rf /content/Tomofast-tools\n",
        "!git clone https://github.com/TOMOFAST/Tomofast-tools.git"
      ]
    },
    {
      "cell_type": "code",
      "execution_count": null,
      "metadata": {
        "id": "lArldmnGghi1"
      },
      "outputs": [],
      "source": [
        "# Compile Tomofast-x.\n",
        "%cd /content/Tomofast-x\n",
        "!make"
      ]
    },
    {
      "cell_type": "markdown",
      "source": [
        "# 1. Synthetic 2D model (gravity data) with petrophysical (ADMM) constraints."
      ],
      "metadata": {
        "id": "US7HvhBEM43d"
      }
    },
    {
      "cell_type": "code",
      "execution_count": null,
      "metadata": {
        "id": "Oa4bqGqggmJd"
      },
      "outputs": [],
      "source": [
        "# Run example.\n",
        "%cd /content/Tomofast-x\n",
        "!mpirun --allow-run-as-root -np 1 ./tomofastx -j ./parfiles/Parfile_mansf_slice.txt"
      ]
    },
    {
      "cell_type": "code",
      "execution_count": null,
      "metadata": {
        "id": "tDVx0dFg5EpB"
      },
      "outputs": [],
      "source": [
        "%cd /content/Tomofast-tools\n",
        "import tomofast_vis\n"
      ]
    },
    {
      "cell_type": "code",
      "execution_count": null,
      "metadata": {
        "id": "KHRUQZehOu1N"
      },
      "outputs": [],
      "source": [
        "# Path to input model grid.\n",
        "model_grid_file = '../Tomofast-x/data/gravmag/mansf_slice/true_model_grav_3litho.txt'\n",
        "# Path to the output model after inversion.\n",
        "model_final_file = '../Tomofast-x/output/mansf_slice/model/grav_final_model_full.txt'\n",
        "# Path to observed data.\n",
        "data_observed_file = '../Tomofast-x/output/mansf_slice/data/grav_calc_read_data.txt'\n",
        "# Path to final data.\n",
        "data_calculated_file = '../Tomofast-x/output/mansf_slice/data/grav_calc_final_data.txt'\n",
        "\n",
        "# Run visualisation.\n",
        "tomofast_vis.main(model_grid_file, model_final_file, data_observed_file, data_calculated_file)"
      ]
    },
    {
      "cell_type": "markdown",
      "source": [
        "# 2-1. A 3D synthetic gravity - faulted ellipsoid - with petrophysical constraints."
      ],
      "metadata": {
        "id": "Z-mTug-8XD4N"
      }
    },
    {
      "cell_type": "code",
      "source": [
        "# Run example.\n",
        "%cd /content/Tomofast-x/\n",
        "!mpirun --allow-run-as-root -np 1 ./tomofastx -j ./parfiles/noddy/Parfile_Noddy_grav_ellipsoid_fault_petro.txt"
      ],
      "metadata": {
        "id": "uwTSflCnXQT0"
      },
      "execution_count": null,
      "outputs": []
    },
    {
      "cell_type": "code",
      "source": [
        "# Path to input model grid.\n",
        "model_grid_file = '../Tomofast-x/data/gravmag/ellipsoid/grav/fault/model_grid.txt'\n",
        "# Path to the output model after inversion.\n",
        "model_final_file = '../Tomofast-x/output/Noddy_grav_ellipsoid_fault_petro/model/grav_final_model_full.txt'\n",
        "# Path to observed data.\n",
        "data_observed_file = '../Tomofast-x/output/Noddy_grav_ellipsoid_fault_petro/data/grav_calc_read_data.txt'\n",
        "# Path to final data.\n",
        "data_calculated_file = '../Tomofast-x/output/Noddy_grav_ellipsoid_fault_petro/data/grav_calc_final_data.txt'\n",
        "\n",
        "# Run visualisation.\n",
        "slice_index=20\n",
        "slice_dim=1\n",
        "tomofast_vis.main(model_grid_file, model_final_file, data_observed_file, data_calculated_file, slice_index, slice_dim)"
      ],
      "metadata": {
        "id": "F_ymmP09a-XW"
      },
      "execution_count": null,
      "outputs": []
    },
    {
      "cell_type": "markdown",
      "source": [
        "# 3. A larger 3D model (gravity data) example."
      ],
      "metadata": {
        "id": "xFQtJrOHwHOX"
      }
    },
    {
      "cell_type": "code",
      "source": [
        "# Clone Tomofast-x input files with a 3D model.\n",
        "%cd /content\n",
        "%ls\n",
        "!git clone https://github.com/TOMOFAST/datasets.git"
      ],
      "metadata": {
        "id": "91pDqNb61uTw"
      },
      "execution_count": null,
      "outputs": []
    },
    {
      "cell_type": "code",
      "source": [
        "# Unzip the input files for Tomofast-x.\n",
        "%cd datasets\n",
        "!unzip inputs_417720_cells.zip"
      ],
      "metadata": {
        "id": "ACL3uhl214wh"
      },
      "execution_count": null,
      "outputs": []
    },
    {
      "cell_type": "code",
      "source": [
        "# Copy tomofast-x executable.\n",
        "%cp ../Tomofast-x/tomofastx .\n",
        "%ls"
      ],
      "metadata": {
        "id": "ZLoejhdw2EPd"
      },
      "execution_count": null,
      "outputs": []
    },
    {
      "cell_type": "code",
      "source": [
        "# Run example.\n",
        "!time mpirun --allow-run-as-root -np 1 ./tomofastx -j ./Parfile.txt"
      ],
      "metadata": {
        "id": "VgSs6NpB2Hfl"
      },
      "execution_count": null,
      "outputs": []
    }
  ],
  "metadata": {
    "colab": {
      "name": "Tomofast-x_examples.ipynb",
      "provenance": [],
      "include_colab_link": true
    },
    "kernelspec": {
      "display_name": "Python 3",
      "name": "python3"
    },
    "language_info": {
      "name": "python"
    }
  },
  "nbformat": 4,
  "nbformat_minor": 0
}